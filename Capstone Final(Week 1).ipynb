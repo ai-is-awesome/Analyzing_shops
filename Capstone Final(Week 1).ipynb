{
 "cells": [
  {
   "cell_type": "markdown",
   "metadata": {},
   "source": [
    "# IBM DATA SCIENCE CAPSTONE PROJECT"
   ]
  },
  {
   "cell_type": "markdown",
   "metadata": {},
   "source": [
    "## Business Problem"
   ]
  },
  {
   "cell_type": "markdown",
   "metadata": {},
   "source": [
    "**New Delhi** is the capital of **India**.\n",
    "\n",
    "The city is home to many **multi-billion dollars start-ups** some of them being **Zomato, Mobikwik, Snapdeal, Dopspot**. Also famous for it’s **diverse food culture and large number of restaurants offering dozens of different cuisines**.\n",
    "\n",
    "Since, the city falls under one of the most richest cities in India. People are willing to spend money on good food. Hence, there is abundant demand from people for good food.\n",
    "\n",
    "But, there is also intense competition for existing restaurants to capture more consumers. \n",
    "\n",
    "### *The business problem* that we're interested in is to find the neighborhoods of Delhi that does not have much eatries around. Also, to sort those neighborhoods according to the price / square feet to find the cheapest locations to open new restaurants / eatries or any different kind of shops\n",
    "\n",
    "### The main stake holders for this project will be Entrepreneurs or Restauranteurs looking to open shops in New Delhi. They will be able to access the competition of their rival restaurants and compare the competition with the prices of the neighborhood to make optimized decisions about which Neighborhood to choose in New Delhi to open a particular type of shop. \n"
   ]
  },
  {
   "cell_type": "markdown",
   "metadata": {},
   "source": [
    "## Data used for the project"
   ]
  },
  {
   "cell_type": "markdown",
   "metadata": {},
   "source": [
    "The Datasets that will be used are:\n",
    "\n",
    "    1. Delhi Neighborhood Data which have the neighborhood names and districts of the New Delhi**\n",
    "<a href = 'https://en.wikipedia.org/wiki/Neighbourhoods_of_Delhi'>Wikipedia Source of neighborhood data</a>\n",
    "\n",
    "    2. Delhi Neighborhood Price Data which contains the prices of different Delhi Neighborhoods\n",
    "<a href = 'https://www.makaan.com/price-trends/property-rates-for-buy-in-delhi'>Prices of different Delhi Neighborhoods(https://makaan.com)</a>\n",
    "\n",
    "Other sources used to get the geographic data and geocoding data are:\n",
    "     1. Foursquare API to get the best venues for a given neighborhood\n",
    "     2. HERE Developers API to get the geocoding data(Latitudes and Longitudes) of the above two data sets. \n",
    "     \n",
    "<a href = 'https://developer.foursquare.com/'>Foursquare Developer API</a>\n",
    "\n",
    "<a href = 'https://developer.here.com/'>HERE Developer API</a>"
   ]
  },
  {
   "cell_type": "markdown",
   "metadata": {},
   "source": [
    "## How Data will be used to solve the problem"
   ]
  },
  {
   "cell_type": "markdown",
   "metadata": {},
   "source": [
    "Wikipedia Page has Delhi's Neighborhood Data which is stored in different sections of the page. BeautifulSoup's scraping library will be used to get the of the diffferent section out and store it in a Pandas DataFrame.\n",
    "\n",
    "On the other hand makaan.com website has stored data in a very complex format. There are multiple tables on the website and locating the appropriate tables and the contents in each Column could be tricky. BeautifulSoup's scraping library will be used for the same thing.\n",
    "\n",
    "After we have the Data with the geocoding coordinates available, we'll be using the foursquare's geogrpahic data to get the best venue of the neighborhood.\n",
    "We will be around half way into the project now.\n",
    "\n",
    "But, we'll also need a way to figure out how to match the neighborhood data of wikipedia page to the Neighborhood price data of makaan.com since all the neighborhood won't have the same name and there may be lots of neighborhoods who don't match up. \n",
    "To solve the above problem, we'll use the geopy's distance.distance function which calculates the distance between two geographical coordinates. We'll first search for the neighborhood in the price data and in case it doesn't exist(or has a different name) we'll instead calculate the distance of each coordinate in the price data to the neighborhood's coordinate and assign the price of the neighborhood which has passed some minimum threshold(for example if the neighborhood's coordinates is within 100 meters of the Price data's current row). \n",
    "\n",
    "These are the main problems that we will try to tackle with the data that we have. "
   ]
  },
  {
   "cell_type": "code",
   "execution_count": null,
   "metadata": {},
   "outputs": [],
   "source": []
  },
  {
   "cell_type": "code",
   "execution_count": null,
   "metadata": {},
   "outputs": [],
   "source": []
  },
  {
   "cell_type": "code",
   "execution_count": null,
   "metadata": {},
   "outputs": [],
   "source": []
  },
  {
   "cell_type": "code",
   "execution_count": null,
   "metadata": {},
   "outputs": [],
   "source": []
  },
  {
   "cell_type": "code",
   "execution_count": null,
   "metadata": {},
   "outputs": [],
   "source": []
  },
  {
   "cell_type": "code",
   "execution_count": null,
   "metadata": {},
   "outputs": [],
   "source": []
  },
  {
   "cell_type": "code",
   "execution_count": null,
   "metadata": {},
   "outputs": [],
   "source": []
  },
  {
   "cell_type": "code",
   "execution_count": null,
   "metadata": {},
   "outputs": [],
   "source": []
  },
  {
   "cell_type": "code",
   "execution_count": null,
   "metadata": {},
   "outputs": [],
   "source": []
  },
  {
   "cell_type": "code",
   "execution_count": null,
   "metadata": {},
   "outputs": [],
   "source": []
  },
  {
   "cell_type": "code",
   "execution_count": null,
   "metadata": {},
   "outputs": [],
   "source": []
  },
  {
   "cell_type": "code",
   "execution_count": null,
   "metadata": {},
   "outputs": [],
   "source": []
  },
  {
   "cell_type": "code",
   "execution_count": null,
   "metadata": {},
   "outputs": [],
   "source": []
  }
 ],
 "metadata": {
  "kernelspec": {
   "display_name": "Python 3",
   "language": "python",
   "name": "python3"
  },
  "language_info": {
   "codemirror_mode": {
    "name": "ipython",
    "version": 3
   },
   "file_extension": ".py",
   "mimetype": "text/x-python",
   "name": "python",
   "nbconvert_exporter": "python",
   "pygments_lexer": "ipython3",
   "version": "3.7.3"
  }
 },
 "nbformat": 4,
 "nbformat_minor": 2
}
