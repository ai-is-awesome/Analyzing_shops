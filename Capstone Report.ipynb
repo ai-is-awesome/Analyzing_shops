{
 "cells": [
  {
   "cell_type": "markdown",
   "metadata": {},
   "source": [
    "# IBM DATA SCIENCE CAPSTONE PROJECT Report"
   ]
  },
  {
   "cell_type": "markdown",
   "metadata": {},
   "source": [
    "## Business Problem"
   ]
  },
  {
   "cell_type": "markdown",
   "metadata": {},
   "source": [
    "**New Delhi** is the capital of **India**.\n",
    "\n",
    "The city is home to many **multi-billion dollars start-ups** some of them being **Zomato, Mobikwik, Snapdeal, Dopspot**. Also famous for it’s **diverse food culture and large number of restaurants offering dozens of different cuisines**.\n",
    "\n",
    "Since, the city falls under one of the most richest cities in India. People are willing to spend money on good food. Hence, there is abundant demand from people for good food.\n",
    "\n",
    "But, there is also intense competition for existing restaurants to capture more consumers. \n",
    "\n",
    "### *The business problem* that we're interested in is to find the neighborhoods of Delhi that does not have much eatries around. Also, to sort those neighborhoods according to the price / square feet to find the cheapest locations to open new restaurants / eatries or any different kind of shops\n",
    "\n",
    "### The main stake holders for this project will be Entrepreneurs or Restauranteurs looking to open shops in New Delhi. They will be able to access the competition of their rival restaurants and compare the competition with the prices of the neighborhood to make optimized decisions about which Neighborhood to choose in New Delhi to open a particular type of shop. \n"
   ]
  },
  {
   "cell_type": "markdown",
   "metadata": {},
   "source": [
    "## Data used for the project"
   ]
  },
  {
   "cell_type": "markdown",
   "metadata": {},
   "source": [
    "The Datasets that will be used are:\n",
    "\n",
    "    1. Delhi Neighborhood Data which have the neighborhood names and districts of the New Delhi**\n",
    "<a href = 'https://en.wikipedia.org/wiki/Neighbourhoods_of_Delhi'>Wikipedia Source of neighborhood data</a>\n",
    "\n",
    "    2. Delhi Neighborhood Price Data which contains the prices of different Delhi Neighborhoods\n",
    "<a href = 'https://www.makaan.com/price-trends/property-rates-for-buy-in-delhi'>Prices of different Delhi Neighborhoods(https://makaan.com)</a>\n",
    "\n",
    "Other sources used to get the geographic data and geocoding data are:\n",
    "     1. Foursquare API to get the best venues for a given neighborhood\n",
    "     2. HERE Developers API to get the geocoding data(Latitudes and Longitudes) of the above two data sets. \n",
    "     \n",
    "<a href = 'https://developer.foursquare.com/'>Foursquare Developer API</a>\n",
    "\n",
    "<a href = 'https://developer.here.com/'>HERE Developer API</a>"
   ]
  },
  {
   "cell_type": "markdown",
   "metadata": {},
   "source": [
    "## How Data will be used to solve the problem"
   ]
  },
  {
   "cell_type": "markdown",
   "metadata": {},
   "source": [
    "Wikipedia Page has Delhi's Neighborhood Data which is stored in different sections of the page. BeautifulSoup's scraping library will be used to get the of the diffferent section out and store it in a Pandas DataFrame.\n",
    "\n",
    "On the other hand makaan.com website has stored data in a very complex format. There are multiple tables on the website and locating the appropriate tables and the contents in each Column could be tricky. BeautifulSoup's scraping library will be used for the same thing.\n",
    "\n",
    "After we have the Data with the geocoding coordinates available, we'll be using the foursquare's geogrpahic data to get the best venue of the neighborhood.\n",
    "We will be around half way into the project now.\n",
    "\n",
    "But, we'll also need a way to figure out how to match the neighborhood data of wikipedia page to the Neighborhood price data of makaan.com since all the neighborhood won't have the same name and there may be lots of neighborhoods who don't match up. \n",
    "To solve the above problem, we'll use the geopy's distance.distance function which calculates the distance between two geographical coordinates. We'll first search for the neighborhood in the price data and in case it doesn't exist(or has a different name) we'll instead calculate the distance of each coordinate in the price data to the neighborhood's coordinate and assign the price of the neighborhood which has passed some minimum threshold(for example if the neighborhood's coordinates is within 100 meters of the Price data's current row). \n",
    "\n",
    "These are the main problems that we will try to tackle with the data that we have. "
   ]
  },
  {
   "cell_type": "markdown",
   "metadata": {},
   "source": [
    "# Methodology"
   ]
  },
  {
   "cell_type": "markdown",
   "metadata": {},
   "source": [
    "The data used in the project is New Delhi's Neighborhood Data and the prices of different Neighborhoods in New Delhi.\n",
    "The object of the project was to find the markets where setting up a shop won't be too competitive and would also be cost efficient(if Possible). "
   ]
  },
  {
   "cell_type": "markdown",
   "metadata": {},
   "source": [
    "In order to achieve this objective, we need to collect the data about the Neighborhoods of Delhi and also visualize it using the folium maps. \n"
   ]
  },
  {
   "cell_type": "markdown",
   "metadata": {},
   "source": [
    "#### Getting the geolocation data of Delhi Neighborhoods"
   ]
  },
  {
   "cell_type": "markdown",
   "metadata": {},
   "source": [
    "After creating a Data Frame of Delhi Neighborhoods, there is still one more thing left to do before we try to get the top venues of New Delhi- GETTING THE GEOLOCATION DATA. Without this, it won't be possible to pass the location coordinates to the foursquare API which are necessary.\n",
    "The HERE developers API was used to get the geolocation data."
   ]
  },
  {
   "cell_type": "markdown",
   "metadata": {},
   "source": [
    "Here's how the different districts(characterized by different colors in the map below) looks."
   ]
  },
  {
   "cell_type": "markdown",
   "metadata": {},
   "source": [
    "#Attach map here"
   ]
  },
  {
   "cell_type": "markdown",
   "metadata": {},
   "source": [
    "The visualization was really helpful as we're able to see that districts of New Delhi are merged together and not scattered(which also means that the data we've scrapped is correct). The neighborhoods in the Northern District is in the Northern Area and so on...)"
   ]
  },
  {
   "cell_type": "markdown",
   "metadata": {},
   "source": [
    "The foursquare's Developer API will help us get the venues of the different Neighborhoods in New Delhi. \n",
    "\n",
    "\n",
    "Approximately 6200 different venues are found by the Foursquare's API which will further be used to classify venues on the basis of different Venue Categories. \n",
    "\n",
    "Since, it is not the name or the address of the venue that matters, but which category does a specific venue have. We will be using pandas groupby to group using the venues's categories. Each neighborhood will then have total number of venue's Category. For Example: If you're feeling hungry after reading all this then Kamla Nagar have at least 8 different pizza places, 5 different coffee shops, 5 chinese restaurants, 3 donut shops and so on."
   ]
  },
  {
   "cell_type": "markdown",
   "metadata": {},
   "source": [
    "# Results"
   ]
  },
  {
   "cell_type": "markdown",
   "metadata": {},
   "source": [
    "<ul>\n",
    "    <li>\n",
    " After getting the best venues of each Neighborhood, we analyzed what each neighborhood's top location consisted of. \n",
    "We get to know that in most of the Neighborhoods eatries, bakries and coffee shops are very popular. \n",
    "\n",
    "  This result is very consistent with real life as most of the top shops in a Neighborhood with good coffee / croissants /   pastries are the ones that are very crowded.\n",
    "  \n",
    "  </li>\n",
    "  <li>\n",
    " The second result that we have is that some neighborhoods have huge number of shops even though the Neighborhoods may   not be the most price effective Neighborhoods(as measured by our prices per sqft column). \n",
    "\n",
    "  There are around 91 different Neighborhoods in the Data Frame that have at least one pizza shop. Some of them are quite     popular averaging around 5 - 8 pizza places. The two Neighborhoods that really stood out are \"Preet Vihar\" and \"Roshanara   Bagh\". The reason is that these neighborhoods are the most expensive of all the 91 Neighborhoods, yet they are also the    most popular ones for having a pizza! which seems contradictory as why would businesses operate in the most expensive   Neighborhoods! Further is discussed in the Discussions section.\n",
    "  \n",
    "  </li>\n",
    "</ul>  \n"
   ]
  },
  {
   "cell_type": "markdown",
   "metadata": {},
   "source": [
    "# Discussion"
   ]
  },
  {
   "cell_type": "markdown",
   "metadata": {},
   "source": [
    "There are several factors that determine the success of a business at a location. There can be different strategies to open a business. One strategy is to open a business in an area where there is little to no competition. This is a less risky way of setting up a new business since business won't be faced with problems such as intense competition and increasing the quality of the products at a very high rate to keep up with the increasing demands of the consumers and compete with rival firms. But, that also comes with a cost of building the consumer base from scratch which means almost no returns in the initial few months of setting up the business\n",
    "\n",
    "These types of businesses are the ones having an average or low real estate rates and very less competitors in the area.\n",
    "\n",
    "\n",
    "In our Dataframe Coffee Shops in Jasola, Kotwali, Nizzamudin West, Shakarpur are the examples of these kind of businesses where possible rent is very low and almost zero competition. \n",
    "\n",
    "The other strategy is to open a business where there are already big markets that are setup. These kind of businesses has the advantage of tapping into huge amount of consumers since the demand is already taken care of(as popular markets have large number of consumers). But, on the other hand it is a very risky strategy. The investment require to rent or buy real estate would be high. Also, due to the intense competition in these markets, the quality of the products should also be good otherwise the competition would be lost to other big businesses that are already selling in the market. This strategy is a high risk, high return strategy. Nonetheless, many other factors should also be considered before operating on these kind of neighborhoods(for example: assessing if it's even worth to spend that much money on the expensive shops)\n",
    "\n",
    "Neighborhoods of Roshnara and Preet Vihar are some of the most expensive neighborhoods in Delhi but they're also one of those that have a good number of pizza shops.\n",
    "One way to answer this problem is that there are other factors present possibly emergance of big markets in those areas where large number of consumers shop which couldl make opening shops and restaurants in those areas profitable due to high sales.\n"
   ]
  },
  {
   "cell_type": "markdown",
   "metadata": {},
   "source": [
    "# Conclusion"
   ]
  },
  {
   "cell_type": "markdown",
   "metadata": {},
   "source": [
    "The main objective of our project is to find the best venues in different Neighborhoods of New Delhi and to assess which of these locations would be best to open a specific kind of Business. \n",
    "\n",
    " Our project helped us to answer these kind of questions.\n",
    " \n",
    " For any given search query, we can find how many shops related to that query is in a particular Neighborhood of New Delhi and how much would it cost to rent / buy a shop in that area. \n",
    " Based on this data, it will help to make the decision making regarding where to open a specific type of business very easy and straightforward.\n",
    " \n",
    " The project also revealed that in some cases very expensive Neighborhoods have more shops which means that the markets in those neighborhoods are huge. And volume of sales may compensate the very high rents or real estate prices in those Neighborhoods."
   ]
  },
  {
   "cell_type": "code",
   "execution_count": null,
   "metadata": {},
   "outputs": [],
   "source": []
  },
  {
   "cell_type": "code",
   "execution_count": null,
   "metadata": {},
   "outputs": [],
   "source": []
  },
  {
   "cell_type": "code",
   "execution_count": null,
   "metadata": {},
   "outputs": [],
   "source": []
  },
  {
   "cell_type": "code",
   "execution_count": null,
   "metadata": {},
   "outputs": [],
   "source": []
  },
  {
   "cell_type": "code",
   "execution_count": null,
   "metadata": {},
   "outputs": [],
   "source": []
  },
  {
   "cell_type": "code",
   "execution_count": null,
   "metadata": {},
   "outputs": [],
   "source": []
  }
 ],
 "metadata": {
  "kernelspec": {
   "display_name": "Python 3",
   "language": "python",
   "name": "python3"
  },
  "language_info": {
   "codemirror_mode": {
    "name": "ipython",
    "version": 3
   },
   "file_extension": ".py",
   "mimetype": "text/x-python",
   "name": "python",
   "nbconvert_exporter": "python",
   "pygments_lexer": "ipython3",
   "version": "3.7.3"
  }
 },
 "nbformat": 4,
 "nbformat_minor": 2
}
